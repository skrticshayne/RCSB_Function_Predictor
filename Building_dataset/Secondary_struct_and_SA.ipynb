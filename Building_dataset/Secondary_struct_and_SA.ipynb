{
 "cells": [
  {
   "cell_type": "markdown",
   "id": "65ec2faa-ee3f-472e-bf67-9a1a650fa59c",
   "metadata": {},
   "source": [
    "# THESE TWO BLOCKS \n",
    "## First labels secondary structure given pdb id\n",
    "## Second Gets area of PDB given PATH OF PDB FILE"
   ]
  },
  {
   "cell_type": "code",
   "execution_count": 18,
   "id": "94e801ee-7887-4adf-a970-8bf50f392608",
   "metadata": {},
   "outputs": [
    {
     "name": "stdout",
     "output_type": "stream",
     "text": [
      "[('22', '27', 'HELX_P'), ('27', '30', 'HELX_P'), ('44', '51', 'HELX_P'), ('52', '61', 'HELX_P'), ('78', '82', 'HELX_P'), ('109', '124', 'HELX_P'), ('149', '163', 'HELX_P'), ('168', '181', 'HELX_P'), ('181', '188', 'HELX_P'), ('197', '216', 'HELX_P'), ('217', '222', 'HELX_P'), ('34', '37', 'STRAND'), ('2', '6', 'STRAND'), ('66', '69', 'STRAND'), ('127', '131', 'STRAND'), ('165', '167', 'STRAND'), ('96', '100', 'STRAND'), ('103', '107', 'STRAND')]\n"
     ]
    }
   ],
   "source": [
    "import requests\n",
    "from xml.etree import ElementTree as ET\n",
    "\n",
    "def get_pdbml(pdb_id):\n",
    "    url = f\"https://files.rcsb.org/view/{pdb_id}.xml\"\n",
    "    response = requests.get(url)\n",
    "    return response.content\n",
    "\n",
    "def parse_secondary_structure(pdbml_content):\n",
    "    root = ET.fromstring(pdbml_content)\n",
    "    ns = {'pdbx': 'http://pdbml.pdb.org/schema/pdbx-v50.xsd'}\n",
    "    \n",
    "    sec_struct = []\n",
    "    for ss in root.findall('.//pdbx:struct_conf', ns):\n",
    "        start_res = ss.find('pdbx:beg_auth_seq_id', ns).text\n",
    "        end_res = ss.find('pdbx:end_auth_seq_id', ns).text\n",
    "        conf_type = ss.find('pdbx:conf_type_id', ns).text\n",
    "        sec_struct.append((start_res, end_res, conf_type))\n",
    "    \n",
    "    for ss in root.findall('.//pdbx:struct_sheet_range', ns):\n",
    "        start_res = ss.find('pdbx:beg_auth_seq_id', ns).text\n",
    "        end_res = ss.find('pdbx:end_auth_seq_id', ns).text\n",
    "        sec_struct.append((start_res, end_res, 'STRAND'))\n",
    "    \n",
    "    return sec_struct\n",
    "\n",
    "def get_secondary_structure(pdb_id):\n",
    "    pdbml_content = get_pdbml(pdb_id)\n",
    "    secondary_structure = parse_secondary_structure(pdbml_content)\n",
    "    return secondary_structure\n",
    "\n",
    "# Example usage\n",
    "pdb_id = \"1deo\"\n",
    "secondary_structure = get_secondary_structure(pdb_id)\n",
    "print(secondary_structure)\n",
    "\n"
   ]
  },
  {
   "cell_type": "code",
   "execution_count": 20,
   "id": "e76c3917-7df2-4162-bfc5-0e5747425f1b",
   "metadata": {},
   "outputs": [
    {
     "name": "stdout",
     "output_type": "stream",
     "text": [
      "Total SASA: 14624.88 Å²\n"
     ]
    }
   ],
   "source": [
    "from Bio.PDB import PDBParser\n",
    "from Bio.PDB.SASA import ShrakeRupley\n",
    "\n",
    "parser = PDBParser(QUIET=True)\n",
    "structure = parser.get_structure(\"1LCD\", \"/Users/shayneskrtic/Desktop/2o14 (1).pdb\")\n",
    "sr = ShrakeRupley()\n",
    "sr.compute(structure, level=\"S\")\n",
    "print(f\"Total SASA: {structure.sasa:.2f} Å²\")\n"
   ]
  },
  {
   "cell_type": "code",
   "execution_count": null,
   "id": "ad15155f-29ce-4ff8-81a7-cef0889c459b",
   "metadata": {},
   "outputs": [],
   "source": []
  }
 ],
 "metadata": {
  "kernelspec": {
   "display_name": "Python 3 (ipykernel)",
   "language": "python",
   "name": "python3"
  },
  "language_info": {
   "codemirror_mode": {
    "name": "ipython",
    "version": 3
   },
   "file_extension": ".py",
   "mimetype": "text/x-python",
   "name": "python",
   "nbconvert_exporter": "python",
   "pygments_lexer": "ipython3",
   "version": "3.12.4"
  }
 },
 "nbformat": 4,
 "nbformat_minor": 5
}
